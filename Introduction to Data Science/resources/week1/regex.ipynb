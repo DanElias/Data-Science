{
 "metadata": {
  "language_info": {
   "codemirror_mode": {
    "name": "ipython",
    "version": 3
   },
   "file_extension": ".py",
   "mimetype": "text/x-python",
   "name": "python",
   "nbconvert_exporter": "python",
   "pygments_lexer": "ipython3",
   "version": "3.8.5-final"
  },
  "orig_nbformat": 2,
  "kernelspec": {
   "name": "python3",
   "display_name": "Python 3.8.5 32-bit ('.env')",
   "metadata": {
    "interpreter": {
     "hash": "4411b1eb09197d87fc49c9cb0b950f1eb3c127a346b22a52e1f9f7b11ed31a65"
    }
   }
  }
 },
 "nbformat": 4,
 "nbformat_minor": 2,
 "cells": [
  {
   "source": [
    "# Regular expressions"
   ],
   "cell_type": "markdown",
   "metadata": {}
  },
  {
   "cell_type": "code",
   "execution_count": 83,
   "metadata": {},
   "outputs": [],
   "source": [
    "import re\n"
   ]
  },
  {
   "cell_type": "code",
   "execution_count": 84,
   "metadata": {},
   "outputs": [
    {
     "output_type": "stream",
     "name": "stdout",
     "text": [
      "wonderful\n"
     ]
    }
   ],
   "source": [
    "text = \"This is a good day\"\n",
    "\n",
    "if re.search(\"good\", text):\n",
    "    print(\"wonderful\")\n",
    "else:\n",
    "    print(\"Alas :c\")\n"
   ]
  },
  {
   "cell_type": "code",
   "execution_count": 85,
   "metadata": {},
   "outputs": [
    {
     "output_type": "execute_result",
     "data": {
      "text/plain": [
       "['',\n",
       " ' works dilligently, ',\n",
       " ' gets good grades. Our student ',\n",
       " ' is succesful']"
      ]
     },
     "metadata": {},
     "execution_count": 85
    }
   ],
   "source": [
    "# Tokenizing separate into substrings based on patterns\n",
    "\n",
    "text = \"Amy works dilligently, Amy gets good grades. Our student Amy is succesful\"\n",
    "\n",
    "re.split(\"Amy\", text)"
   ]
  },
  {
   "cell_type": "code",
   "execution_count": 86,
   "metadata": {},
   "outputs": [
    {
     "output_type": "execute_result",
     "data": {
      "text/plain": [
       "['Amy', 'Amy', 'Amy']"
      ]
     },
     "metadata": {},
     "execution_count": 86
    }
   ],
   "source": [
    "re.findall(\"Amy\", text)"
   ]
  },
  {
   "cell_type": "code",
   "execution_count": 87,
   "metadata": {},
   "outputs": [
    {
     "output_type": "execute_result",
     "data": {
      "text/plain": [
       "<re.Match object; span=(0, 3), match='Amy'>"
      ]
     },
     "metadata": {},
     "execution_count": 87
    }
   ],
   "source": [
    "# Anchors: specify start or end of string you are truing to match. ^start $end\n",
    "text = \"Amy works dilligently, Amy gets good grades. Our student Amy is succesful\"\n",
    "re.search(\"^Amy\", text)"
   ]
  },
  {
   "cell_type": "code",
   "execution_count": 88,
   "metadata": {},
   "outputs": [],
   "source": [
    "#re.Match object, has a boolean true if found, and tells you which parent was matched\n"
   ]
  },
  {
   "source": [
    "# Patterns and Character Classes"
   ],
   "cell_type": "markdown",
   "metadata": {}
  },
  {
   "cell_type": "code",
   "execution_count": 89,
   "metadata": {},
   "outputs": [
    {
     "output_type": "execute_result",
     "data": {
      "text/plain": [
       "['B', 'B', 'B', 'B']"
      ]
     },
     "metadata": {},
     "execution_count": 89
    }
   ],
   "source": [
    "grades=\"AABCCBABAAAAAABC\"\n",
    "\n",
    "re.findall(\"B\", grades)\n"
   ]
  },
  {
   "cell_type": "code",
   "execution_count": 90,
   "metadata": {},
   "outputs": [
    {
     "output_type": "execute_result",
     "data": {
      "text/plain": [
       "['A', 'A', 'B', 'B', 'A', 'B', 'A', 'A', 'A', 'A', 'A', 'A', 'B']"
      ]
     },
     "metadata": {},
     "execution_count": 90
    }
   ],
   "source": [
    "# Set operator, OR\n",
    "re.findall(\"[AB]\", grades)"
   ]
  },
  {
   "cell_type": "code",
   "execution_count": 91,
   "metadata": {},
   "outputs": [
    {
     "output_type": "execute_result",
     "data": {
      "text/plain": [
       "['AB', 'AB', 'AB']"
      ]
     },
     "metadata": {},
     "execution_count": 91
    }
   ],
   "source": [
    "# All lower case characters [a-z]\n",
    "# Find A followed by a B OR C\n",
    "re.findall(\"[A][B-C]\", grades)"
   ]
  },
  {
   "cell_type": "code",
   "execution_count": 92,
   "metadata": {},
   "outputs": [
    {
     "output_type": "execute_result",
     "data": {
      "text/plain": [
       "['AB', 'AB', 'AB']"
      ]
     },
     "metadata": {},
     "execution_count": 92
    }
   ],
   "source": [
    "#Pipe = OR\n",
    "re.findall(\"AB|AC\", grades)"
   ]
  },
  {
   "cell_type": "code",
   "execution_count": 93,
   "metadata": {},
   "outputs": [
    {
     "output_type": "execute_result",
     "data": {
      "text/plain": [
       "['B', 'C', 'C', 'B', 'B', 'B', 'C']"
      ]
     },
     "metadata": {},
     "execution_count": 93
    }
   ],
   "source": [
    "# ^ NOT, inside [] ^ looses its start meaning\n",
    "re.findall(\"[^A]\", grades)"
   ]
  },
  {
   "cell_type": "code",
   "execution_count": 94,
   "metadata": {},
   "outputs": [
    {
     "output_type": "execute_result",
     "data": {
      "text/plain": [
       "[]"
      ]
     },
     "metadata": {},
     "execution_count": 94
    }
   ],
   "source": [
    "# Match any value at the beginning of the string that is not A = [] because the string starts with A\n",
    "re.findall(\"^[^A]\", grades)"
   ]
  },
  {
   "source": [
    "# Quantifiers\n"
   ],
   "cell_type": "markdown",
   "metadata": {}
  },
  {
   "cell_type": "code",
   "execution_count": 97,
   "metadata": {},
   "outputs": [
    {
     "output_type": "execute_result",
     "data": {
      "text/plain": [
       "['AA', 'AAAAAA']"
      ]
     },
     "metadata": {},
     "execution_count": 97
    }
   ],
   "source": [
    "# Quantifiers, number of times you want a pattern to be matched before it counts as matched\n",
    "# e(m,n) m = min matches, n = max matches\n",
    "re.findall(\"A{2,10}\", grades)"
   ]
  },
  {
   "cell_type": "code",
   "execution_count": 103,
   "metadata": {},
   "outputs": [
    {
     "output_type": "execute_result",
     "data": {
      "text/plain": [
       "['AA', 'AA', 'AA', 'AA']"
      ]
     },
     "metadata": {},
     "execution_count": 103
    }
   ],
   "source": [
    "# This patterns looks for two As followed by another two As\n",
    "re.findall(\"A{1,1}A{1,1}\", grades)"
   ]
  },
  {
   "cell_type": "code",
   "execution_count": 104,
   "metadata": {},
   "outputs": [
    {
     "output_type": "execute_result",
     "data": {
      "text/plain": [
       "[]"
      ]
     },
     "metadata": {},
     "execution_count": 104
    }
   ],
   "source": [
    "# You cannot add spaces, follow the pattern\n",
    "re.findall(\"A{2, 2}\", grades)"
   ]
  },
  {
   "cell_type": "code",
   "execution_count": 105,
   "metadata": {},
   "outputs": [
    {
     "output_type": "execute_result",
     "data": {
      "text/plain": [
       "['AA', 'AA', 'AA', 'AA']"
      ]
     },
     "metadata": {},
     "execution_count": 105
    }
   ],
   "source": [
    "# if no quantifier is specified then it is {1,1}\n",
    "re.findall(\"AA\", grades)"
   ]
  },
  {
   "cell_type": "code",
   "execution_count": 106,
   "metadata": {},
   "outputs": [
    {
     "output_type": "execute_result",
     "data": {
      "text/plain": [
       "['AA', 'AA', 'AA', 'AA']"
      ]
     },
     "metadata": {},
     "execution_count": 106
    }
   ],
   "source": [
    "# If only one number is included then it is the min and the max\n",
    "re.findall(\"A{2}\", grades)"
   ]
  },
  {
   "cell_type": "code",
   "execution_count": 107,
   "metadata": {},
   "outputs": [
    {
     "output_type": "execute_result",
     "data": {
      "text/plain": [
       "['AABCC', 'AAAAAABC']"
      ]
     },
     "metadata": {},
     "execution_count": 107
    }
   ],
   "source": [
    "#Decreasings\n",
    "re.findall(\"A{1,10}B{1,10}C{1,10}\", grades)"
   ]
  },
  {
   "cell_type": "code",
   "execution_count": 108,
   "metadata": {},
   "outputs": [],
   "source": [
    "# * -> match 0 or more times\n",
    "# ? -> match one or more times\n",
    "# + -> match one or more times\n",
    "with open(\"datasets/ferpa.txt\", \"r\") as file:\n",
    "    wiki=file.read()\n"
   ]
  },
  {
   "cell_type": "code",
   "execution_count": 109,
   "metadata": {},
   "outputs": [
    {
     "output_type": "execute_result",
     "data": {
      "text/plain": [
       "['Overview[edit]', 'records[edit]', 'records[edit]']"
      ]
     },
     "metadata": {},
     "execution_count": 109
    }
   ],
   "source": [
    "# Headers in ferpa all have the word edit behind them, followed by a new line char\n",
    "re.findall(\"[a-zA-Z]{1,100}\\[edit\\]\", wiki)"
   ]
  },
  {
   "cell_type": "code",
   "execution_count": 110,
   "metadata": {},
   "outputs": [
    {
     "output_type": "execute_result",
     "data": {
      "text/plain": [
       "['Overview[edit]', 'records[edit]', 'records[edit]']"
      ]
     },
     "metadata": {},
     "execution_count": 110
    }
   ],
   "source": [
    "# It got only the last word of the headers - w ->  any word character\n",
    "re.findall(\"[\\w]{1,100}\\[edit\\]\", wiki)"
   ]
  },
  {
   "cell_type": "code",
   "execution_count": 119,
   "metadata": {},
   "outputs": [
    {
     "output_type": "execute_result",
     "data": {
      "text/plain": [
       "['Overview[edit]', 'records[edit]', 'records[edit]']"
      ]
     },
     "metadata": {},
     "execution_count": 119
    }
   ],
   "source": [
    "# Metacharacters\n",
    "# s -> whitespace\n",
    "# w -> any word, doesnt include spaces\n",
    "# Get any lenght string followed by edit\n",
    "re.findall(\"[\\w]*\\[edit\\]\", wiki)"
   ]
  },
  {
   "cell_type": "code",
   "execution_count": 112,
   "metadata": {},
   "outputs": [
    {
     "output_type": "execute_result",
     "data": {
      "text/plain": [
       "['Overview[edit]',\n",
       " 'Access to public records[edit]',\n",
       " 'Student medical records[edit]']"
      ]
     },
     "metadata": {},
     "execution_count": 112
    }
   ],
   "source": [
    "# Adds space\n",
    "# Get any length string containing chars and spaces followed by edit\n",
    "re.findall(\"[\\w ]*\\[edit\\]\", wiki)"
   ]
  },
  {
   "cell_type": "code",
   "execution_count": 120,
   "metadata": {},
   "outputs": [
    {
     "output_type": "stream",
     "name": "stdout",
     "text": [
      "Overview\nAccess to public records\nStudent medical records\n"
     ]
    }
   ],
   "source": [
    "# Remove the edit part [edit] of the title\n",
    "for title in re.findall(\"[\\w ]*\\[edit\\]\", wiki):\n",
    "    print(re.split(\"[\\[]\", title)[0])"
   ]
  },
  {
   "source": [
    "# Groups"
   ],
   "cell_type": "markdown",
   "metadata": {}
  },
  {
   "cell_type": "code",
   "execution_count": 121,
   "metadata": {},
   "outputs": [
    {
     "output_type": "execute_result",
     "data": {
      "text/plain": [
       "[('Overview', '[edit]'),\n",
       " ('Access to public records', '[edit]'),\n",
       " ('Student medical records', '[edit]')]"
      ]
     },
     "metadata": {},
     "execution_count": 121
    }
   ],
   "source": [
    "# Match groups of patterns\n",
    "# () group patterns\n",
    "re.findall(\"([\\w ]*)(\\[edit\\])\", wiki)"
   ]
  },
  {
   "cell_type": "code",
   "execution_count": 122,
   "metadata": {},
   "outputs": [
    {
     "output_type": "stream",
     "name": "stdout",
     "text": [
      "('Overview', '[edit]')\n('Access to public records', '[edit]')\n('Student medical records', '[edit]')\n"
     ]
    }
   ],
   "source": [
    "# return a list of match objects\n",
    "for item in re.finditer(\"([\\w ]*)(\\[edit\\])\", wiki):\n",
    "    print(item.groups())"
   ]
  },
  {
   "cell_type": "code",
   "execution_count": 125,
   "metadata": {},
   "outputs": [
    {
     "output_type": "stream",
     "name": "stdout",
     "text": [
      "Overview\nAccess to public records\nStudent medical records\n"
     ]
    }
   ],
   "source": [
    "# return a list of match objects\n",
    "# only first parameter\n",
    "for item in re.finditer(\"([\\w ]*)(\\[edit\\])\", wiki):\n",
    "    print(item.group(1))"
   ]
  },
  {
   "cell_type": "code",
   "execution_count": 129,
   "metadata": {},
   "outputs": [
    {
     "output_type": "stream",
     "name": "stdout",
     "text": [
      "Overview\nAccess to public records\nStudent medical records\n"
     ]
    }
   ],
   "source": [
    "# Label groups\n",
    "# Results as dictionary\n",
    "# (?P<name>): name -> dictionary key\n",
    "for item in re.finditer(\"(?P<title>[\\w ]*)(?P<edit_link>\\[edit\\])\", wiki):\n",
    "    print(item.group('title'))"
   ]
  },
  {
   "cell_type": "code",
   "execution_count": 130,
   "metadata": {},
   "outputs": [
    {
     "output_type": "stream",
     "name": "stdout",
     "text": [
      "{'title': 'Student medical records', 'edit_link': '[edit]'}\n"
     ]
    }
   ],
   "source": [
    "print(item.groupdict())"
   ]
  },
  {
   "cell_type": "code",
   "execution_count": 131,
   "metadata": {},
   "outputs": [],
   "source": [
    "# w -> any word character\n",
    "# . -> any single char not new line\n",
    "# d -> any digit\n",
    "# s -> whitespace"
   ]
  },
  {
   "source": [
    "# Look-ahead and Look-behind"
   ],
   "cell_type": "markdown",
   "metadata": {}
  },
  {
   "cell_type": "code",
   "execution_count": 134,
   "metadata": {},
   "outputs": [
    {
     "output_type": "stream",
     "name": "stdout",
     "text": [
      "<re.Match object; span=(0, 8), match='Overview'>\n<re.Match object; span=(2732, 2739), match='records'>\n<re.Match object; span=(3708, 3715), match='records'>\n"
     ]
    }
   ],
   "source": [
    "# ?= we are looking ahead for edit but not matching it\n",
    "for item in re.finditer(\"(?P<title>[\\w]+)(?=\\[edit\\])\", wiki):\n",
    "    print(item)"
   ]
  },
  {
   "source": [
    "# Example : Wikipedia Data"
   ],
   "cell_type": "markdown",
   "metadata": {}
  },
  {
   "cell_type": "code",
   "execution_count": 147,
   "metadata": {},
   "outputs": [
    {
     "output_type": "execute_result",
     "data": {
      "text/plain": [
       "'Buddhist universities and colleges in the United States\\nFrom Wikipedia, the free encyclopedia\\nJump to navigationJump to search\\n\\nThis article needs additional citations for verification. Please help improve this article by adding citations to reliable sources. Unsourced material may be challenged and removed.\\nFind sources: \"Buddhist universities and colleges in the United States\" – news · newspapers · books · scholar · JSTOR (December 2009) (Learn how and when to remove this template message)\\nThere are several Buddhist universities in the United States. Some of these have existed for decades and are accredited. Others are relatively new and are either in the process of being accredited or else have no formal accreditation. The list includes:\\n\\nDhammakaya Open University – located in Azusa, California, part of the Thai Wat Phra Dhammakaya[1]\\nDharmakirti College – located in Tucson, Arizona Now called Awam Tibetan Buddhist Institute (http://awaminstitute.org/)\\nDharma Realm Buddhist University – located in Ukiah, California\\nEwam Buddhist Institute – located in Arlee, Montana\\nNaropa University is located in Boulder, Colorado (Accredited by the Higher Learning Commission)\\nInstitute of Buddhist Studies – located in Berkeley, California\\nMaitripa College – located in Portland, Oregon\\nSoka University of America – located in Aliso Viejo, California\\nUniversity of the West – located in Rosemead, California\\nWon Institute of Graduate Studies – located in Glenside, Pennsylvania\\nReferences[edit]\\n^ Banchanon, Phongphiphat (3 February 2015). รู้จัก \"เครือข่ายธรรมกาย\" [Getting to know the Dhammakaya network]. Forbes Thailand (in Thai). Retrieved 11 November 2016.\\nExternal links[edit]\\nList of Buddhist Universities and Colleges in the world\\n'"
      ]
     },
     "metadata": {},
     "execution_count": 147
    }
   ],
   "source": [
    "# Data of buddist based universities\n",
    "with open(\"datasets/buddhist.txt\", \"r\", -1,  \"utf-8\") as file:\n",
    "    wiki = file.read()\n",
    "wiki"
   ]
  },
  {
   "cell_type": "code",
   "execution_count": 152,
   "metadata": {},
   "outputs": [
    {
     "output_type": "stream",
     "name": "stdout",
     "text": [
      "{'title': 'Dhammakaya Open University ', 'city': 'Azusa', 'state': 'California'}\n{'title': 'Dharmakirti College ', 'city': 'Tucson', 'state': 'Arizona'}\n{'title': 'Dharma Realm Buddhist University ', 'city': 'Ukiah', 'state': 'California'}\n{'title': 'Ewam Buddhist Institute ', 'city': 'Arlee', 'state': 'Montana'}\n{'title': 'Institute of Buddhist Studies ', 'city': 'Berkeley', 'state': 'California'}\n{'title': 'Maitripa College ', 'city': 'Portland', 'state': 'Oregon'}\n{'title': 'University of the West ', 'city': 'Rosemead', 'state': 'California'}\n{'title': 'Won Institute of Graduate Studies ', 'city': 'Glenside', 'state': 'Pennsylvania'}\n"
     ]
    }
   ],
   "source": [
    "# Verbose mode of python regex - write multiline regex and encreases readability, indicate white space chars\n",
    "pattern=\"\"\"\n",
    "(?P<title>.*)        #the university title\n",
    "(–\\ located\\ in\\ )   #an indicator of the location\n",
    "(?P<city>\\w*)        #city the university is in\n",
    "(,\\ )                #separator for the state\n",
    "(?P<state>\\w*)       #the state the city is located in\"\"\"\n",
    "\n",
    "# Now when we call finditer() we just pass the re.VERBOSE flag as the last parameter, this makes it much\n",
    "# easier to understand large regexes!\n",
    "for item in re.finditer(pattern,wiki,re.VERBOSE):\n",
    "    # We can get the dictionary returned for the item with .groupdict()\n",
    "    print(item.groupdict())"
   ]
  },
  {
   "source": [
    "# Example: New York Times and Hashtags"
   ],
   "cell_type": "markdown",
   "metadata": {}
  },
  {
   "cell_type": "code",
   "execution_count": 153,
   "metadata": {},
   "outputs": [
    {
     "output_type": "execute_result",
     "data": {
      "text/plain": [
       "Customers Are Generally Happy http://nyti.ms/1q0OTGZ\\n487095289883656192|Thu Jul 10 04:45:41 +0000 2014|Race Is On to Profit From Rise of Urgent Care http://nyti.ms/1sA0YA4\\n487078036408254464|Thu Jul 10 03:37:08 +0000 2014|America’s young people, as a group, are becoming more out of shape with every passing year http://nyti.ms/1mIZ80m\\n487041531824459776|Thu Jul 10 01:12:04 +0000 2014|Drug-resistant tuberculosis is on the rise http://nyti.ms/1xU0ZSr via @nytopinion\\n487018872982097921|Wed Jul 09 23:42:02 +0000 2014|Lettuce turnip the beet http://nyti.ms/1xTUoYa\\n486984329260974080|Wed Jul 09 21:24:46 +0000 2014|Europe Fines Servier in Pay-for-Delay Crackdown http://nyti.ms/VYT09l\\n486965947119702016|Wed Jul 09 20:11:43 +0000 2014|Staple closures are faster, but suture closures are safer after a C-section http://nyti.ms/1xTFtx3\\n486935846335950849|Wed Jul 09 18:12:07 +0000 2014|No, contraception coverage does not usually pay for itself http://nyti.ms/1mJoeMl\\n486920209425760256|Wed Jul 09 17:09:59 +0000 2014|The rapid price increases for some generic drugs have caught doctors and patients by surprise http://nyti.ms/1mJjQNq\\n486893969461485568|Wed Jul 09 15:25:43 +0000 2014|Well: Staples vs. Sutures After C-Section http://nyti.ms/U3MH2H\\n486892211708379136|Wed Jul 09 15:18:43 +0000 2014|America’s young people, as a group, are becoming more out of shape with every passing year http://nyti.ms/1mIZ80m\\n486726231376007168|Wed Jul 09 04:19:11 +0000 2014|Probing Brain’s Depth, Trying to Aid Memory http://nyti.ms/VHWfBD\\n486726230008668160|Wed Jul 09 04:19:10 +0000 2014|Well: This Is Our Youth http://nyti.ms/VHY1mj\\n486722323052232704|Wed Jul 09 04:03:39 +0000 2014|Democrats Push Bill to Reverse Supreme Court Ruling on Contraceptives http://nyti.ms/1kCeNJ1\\n486718007939694592|Wed Jul 09 03:46:30 +0000 2014|Using M.C.s and M.D.s to Promote Healthy Eating for Youths http://nyti.ms/VHSMCY\\n486718006878543872|Wed Jul 09 03:46:30 +0000 2014|Six Vials of Smallpox Discovered in Laboratory Near Washington http://nyti.ms/VHSMCU\\n486697277621145600|Wed Jul 09 02:24:08 +0000 2014|Excessive drinking is the fourth leading cause of preventable death in the United States http://nyti.ms/1mFreJQ\\n486663808362885120|Wed Jul 09 00:11:08 +0000 2014|Try this refreshing grilled watermelon and feta salad (Photo: Andrew Scrivani for NYT) http://nyti.ms/1mFsHzM http://pbs.twimg.com/media/BsDQpAHCcAE3pga.jpg\\n486633116400766978|Tue Jul 08 22:09:10 +0000 2014|Would you want to read your therapist\\'s notes after each session? http://nyti.ms/1mFp3WB\\n486620561770954754|Tue Jul 08 21:19:17 +0000 2014|Vials of Smallpox Found in F.D.A. Storage Room http://nyti.ms/1r6OGir\\n486617905313112065|Tue Jul 08 21:08:44 +0000 2014|Coming to the United States for a baby, and womb to carry it (Photo: Matt Rainey for NYT) http://nyti.ms/1xOiKm5 http://pbs.twimg.com/media/BsDQZ-ECIAEq1yU.jpg\\n486581789096697856|Tue Jul 08 18:45:13 +0000 2014|RT @paula_span: How useful are five-star ratings Medicare awards for nursing homes? Ohio residents, families say: Not very. http://t.co/6r7…\\n486568181847576576|Tue Jul 08 17:51:09 +0000 2014|Long waits to get a doctor\\'s appointment have become the norm in many parts of American medicine http://nyti.ms/1xNnM27 via @nytopinion\\n486555011464585217|Tue Jul 08 16:58:49 +0000 2014|The New Old Age Blog: The Fault in Our Stars http://nyti.ms/1r6ddEh\\n486539604599001088|Tue Jul 08 15:57:35 +0000 2014|RT @celiadugger: 1.5 million tons of flame retardants are used annually and get into everything from peanut butter to women\\'s bodies. http:…\\n486529783975931905|Tue Jul 08 15:18:34 +0000 2014|RT @dacorc: Fascinating, from @JanHoffmanNYT: What the Therapist Thinks About You http://nyti.ms/1n1p5SY\\n486283818362748928|Mon Jul 07 23:01:11 +0000 2014|Profiles in Science: A Billionaire Mathematician’s Life of Ferocious Curiosity http://nyti.ms/1mt5NK8\\n486274207396159490|Mon Jul 07 22:23:00 +0000 2014|RT @nytdining: .@Bittman is giving tofu the new look it deserves: http://nyti.ms/1pVqAdr Photo: @esung http://pbs.twimg.com/media/Br-VjIOIYAAKBSD.jpg\\n486267214245658624|Mon Jul 07 21:55:12 +0000 2014|Global Health: New Field Tests May Curb Kissing Bug Disease http://nyti.ms/1m9Sz5z\\n486241709773565953|Mon Jul 07 20:13:52 +0000 2014|Well: What the Therapist Thinks About You http://nyti.ms/1m9EsgB\\n486224971145158656|Mon Jul 07 19:07:21 +0000 2014|RT @GabrielleGlaser: Some hopeful news. My latest on evidence-based treatment of substance abuse: A Different Path to Fighting Addiction ht…\\n486221286952407040|Mon Jul 07 18:52:43 +0000 2014|RT @MarthaRShulman: Grilled Vanilla-Ginger Pineapple http://nyti.ms/1zkguo8 Don\\'t put away your grills! Grilled fruit all week on #Recipesf…\\n486209214399131648|Mon Jul 07 18:04:44 +0000 2014|Well: Studying May Make You Nearsighted http://nyti.ms/1j93LzH\\n486205381023379456|Mon Jul 07 17:49:30 +0000 2014|Well: Alcohol Remains a Leading Killer http://nyti.ms/1j938pW\\n486191101507035137|Mon Jul 07 16:52:46 +0000 2014|Well: Weekend Dangers at the E.R. http://nyti.ms/1j8VTym\\n486184377152729089|Mon Jul 07 16:26:03 +0000 2014|RT @tamarnyt: With surrogacy illegal in so many countries, more foreign couples heading to US for a womb, and a baby   http://t.co/JUE9Vo9U…\\n486183953339252736|Mon Jul 07 16:24:21 +0000 2014|How closely have you been following health news? The weekly quiz: http://nyti.ms/1tgaFaO\\n486178421731766272|Mon Jul 07 16:02:23 +0000 2014|RT @celiadugger: It\\'s not just VA patients who wait for apts. So do privately insured Americans,  writes @nytrosenthal. http://t.co/Gn4BtqF…\\n486178351481389057|Mon Jul 07 16:02:06 +0000 2014|RT @nytrosenthal: http://www.nytimes.com/2014/07/06/sunday-review/long-waits-for-doctors-appointments-have-become-the-norm.html To discuss long U.S. wait times and solutions, please join our Facebook Group  https://t.co/lmM8QF…\\n486178327468990464|Mon Jul 07 16:02:00 +0000 2014|RT @nytrosenthal: Myth that US patients don\\'t wait for medical care. They do! http://www.nytimes.com/2014/07/06/sunday-review/long-waits-for-doctors-appointments-have-become-the-norm.html. Join NYT new Paying Till it Hurts FB …\\n486178167334653952|Mon Jul 07 16:01:22 +0000 2014|RT @cslnyt: Fighting addiction without A.A. @gabrielleglaser http://nyti.ms/1qDgmxF\\n486174278938025984|Mon Jul 07 15:45:55 +0000 2014|Recipes for Health: Grilled Vanilla-Ginger Pineapple http://nyti.ms/1qbUOEG\\n486159407353720833|Mon Jul 07 14:46:49 +0000 2014|The New Health Care: Gingrich’s Correct Prediction About Medicare’s Future http://nyti.ms/1qbKug6\\n486000614611353600|Mon Jul 07 04:15:50 +0000 2014|Well: Overweight and Pregnant http://nyti.ms/1lMoGn8\\n485569747233550336|Sat Jul 05 23:43:43 +0000 2014|Foreign Couples Heading to America for Surrogate Pregnancies http://nyti.ms/1zgxKeb\\n485565040838193152|Sat Jul 05 23:25:01 +0000 2014|Foreign Couples Heading to America for Surrogate Pregnancies http://nyti.ms/1zgwyY2\\n485425398935994368|Sat Jul 05 14:10:08 +0000 2014|Remember to reapply your sunscreen! http://nyti.ms/1qCzRGD\\n485248904561446913|Sat Jul 05 02:28:49 +0000 2014|Obama Weighs Steps to Cover Contraception http://nyti.ms/TUNumh\\n485236091297865728|Sat Jul 05 01:37:54 +0000 2014|Virus Plagues the Pork Industry, and Environmentalists http://nyti.ms/1j3MKqN\\n484913764224229376|Fri Jul 04 04:17:05 +0000 2014|Well: Adopt a Bean and Cook With It http://nyti.ms/1lDZQ8J\\n484896300828459008|Fri Jul 04 03:07:41 +0000 2014|A Different Path to Fighting Addiction http://nyti.ms/1otiKnz\\n484896299276578816|Fri Jul 04 03:07:41 +0000 2014|Birth Control Order Deepens Divide Among Justices http://nyti.ms/1j1SRvK\\n484805714222010369|Thu Jul 03 21:07:44 +0000 2014|Your questions on Truvada, answered: http://nyti.ms/1qCANLb\\n484805375167062017|Thu Jul 03 21:06:23 +0000 2014|More on Truvada, the drug that could transform AIDS prevention in the United States: http://nyti.ms/1qCAAHR\\n484803227704360962|Thu Jul 03 20:57:51 +0000 2014|Moving beyond condoms as HIV risk-reduction tool. Gov. Andrew Cuomo pushes for new strategy.  http://nyti.ms/1qCz9t7\\n484790700899581952|Thu Jul 03 20:08:04 +0000 2014|The Think Like a Doctor answer is … Insulinoma. A reader who was not a doctor figured it out. http://nyti.ms/1qCpD9n\\n484785299269386240|Thu Jul 03 19:46:36 +0000 2014|Fighting an Epidemic: Pill to Prevent H.I.V. Gets a Prominent Backer: Andrew Cuomo http://nyti.ms/Vj7MqL\\n484775388455780352|Thu Jul 03 19:07:13 +0000 2014|Well: Think Like a Doctor: Sugar-Free Solved! http://nyti.ms/ViXAyx\\n484770755390222336|Thu Jul 03 18:48:49 +0000 2014|RT @paula_span: Is it condescending to warn seniors about #benzos risks and try to help them quit? Some New Old Age readers unhappy. http:/…\\n484734783931813888|Thu Jul 03 16:25:53 +0000 2014|RT @heathertal: Parents must spend more than $500 on mandatory vaccine. Meanwhile manufacturer is making $4 billion. @nytrosenthal http://t…\\n484718841197772800|Thu Jul 03 15:22:32 +0000 2014|RT @nytrosenthal: Who knew kids vaccinations had become so pricey? The latest from NYT series Paying Till it Hurts.  http://www.nytimes.com/2014/07/03/health/Vaccine-Costs-Soaring-Paying-Till-It-Hurts.html\\n484718782485921792|Thu Jul 03 15:22:18 +0000 2014|RT @nytrosenthal: Read to end of vaccine piece: We started a NYT Paying Till it Hurts Facebook Group to talk HC prices! Please join! https:…\\n484718650562449408|Thu Jul 03 15:21:46 +0000 2014|RT @celiadugger: 100s of 1000s of Americans get spinal shots for back &amp; leg pain but randomized trial finds the don\\'t help much. http://t.c…\\n484712832827928576|Thu Jul 03 14:58:39 +0000 2014|RT @ReedAbelson: Jamie Dimon’s Cancer Revelation Raises Questions About Disclosing the C.E.O.’s Illness http://nyti.ms/1qzxq7Q\\n484648552787099648|Thu Jul 03 10:43:13 +0000 2014|Well: The Doctor Gets V.I.P. Treatment http://nyti.ms/1mWrzGO\\n484551061471232000|Thu Jul 03 04:15:50 +0000 2014|Well: Ask Well: Reapply Your Sunscreen http://nyti.ms/1jLKQpI\\n484539837933182977|Thu Jul 03 03:31:14 +0000 2014|DealBook: Jamie Dimon’s Cancer Revelation Raises Questions About Disclosing the C.E.O.’s Illness http://nyti.ms/1mmrpth\\n484539836985253888|Thu Jul 03 03:31:14 +0000 2014|Paying Till It Hurts: The Price of Prevention: Vaccine Costs Soaring http://nyti.ms/1oaTbpu\\n484535447889379328|Thu Jul 03 03:13:47 +0000 2014|National Briefing | Midwest: Missouri: Three-Day Wait for Abortion Is Vetoed http://nyti.ms/1mmoVep\\n484535446958276609|Thu Jul 03 03:13:47 +0000 2014|Rick Perry Turns From Beloved Cowboy Boots http://nyti.ms/1oaOyvI\\n484531438260600834|Thu Jul 03 02:57:51 +0000 2014|After Criticism, Investigator Steps Down From the V.A. http://nyti.ms/1oaOyvG\\n484531436964573184|Thu Jul 03 02:57:51 +0000 2014|Insurers on New York State’s Health Exchange Seek Significant Rate Increases http://nyti.ms/1mmoVen\\n484448386167623681|Wed Jul 02 21:27:50 +0000 2014|RT @BarryMeier: Update: Sgt. Shane Savage of \"A Soldier\\'s War on Pain\" http://nyti.ms/1mNebGV had amputation. He\\'s feeling good and ready t…\\n484448292945010688|Wed Jul 02 21:27:28 +0000 2014|RT @PamBelluck: For people with back pain, an important new study: do steroid injections for spinal stenosis work? http://nyti.ms/1vxMZun\\n484444737542569985|Wed Jul 02 21:13:20 +0000 2014|Common Treatment for Back Pain Provides Little Help, Study Says http://nyti.ms/1o2FnMu\\n484436345444904960|Wed Jul 02 20:39:59 +0000 2014|RT @cslnyt: Is practice variation ok?Or should medicine be strictly evidence-based?  @aaronecarroll    http://nyti.ms/1qTjW6N\\n484435496861724672|Wed Jul 02 20:36:37 +0000 2014|RT @paula_span: A brochure can help wean older adults off risky benzos -- sleeping pills. http://newoldage.blogs.nytimes.com/2014/07/02/weaning-older-patients-off-of-sleeping-pills/\\n484422971206160384|Wed Jul 02 19:46:51 +0000 2014|State of the Art: The Bright Side of Facebook’s Social Experiments on Users http://nyti.ms/1pXvCle\\n484402471696351233|Wed Jul 02 18:25:23 +0000 2014|The New Old Age Blog: Weaning Older Patients Off of Sleeping Pills http://nyti.ms/1m9elpD\\n484395946307231744|Wed Jul 02 17:59:27 +0000 2014|RT @nytimes: Moderate exercise may help to slow the progression of Alzheimer\\'s disease http://nyti.ms/1mK6rip\\n484321748478099456|Wed Jul 02 13:04:37 +0000 2014|Well: Think Like a Doctor: Sugar-Free http://nyti.ms/1o1Aa7D\\n484305663125114880|Wed Jul 02 12:00:42 +0000 2014|For all the antiquity and notoriety of leprosy, the disease continues to surprise and confound http://nyti.ms/TCriwV\\n484195469024059392|Wed Jul 02 04:42:50 +0000 2014|World Briefing: Ebola Outbreak Is Largest Ever http://nyti.ms/1mj0IFX\\n484195467702845440|Wed Jul 02 04:42:50 +0000 2014|Nutrition Group Lobbies Against Healthier School Meals It Sought, Citing Cost http://nyti.ms/TBC3zz\\n484190171525824512|Wed Jul 02 04:21:47 +0000 2014|Well: Can Exercise Reduce Alzheimer’s Risk? http://nyti.ms/TBzWfc\\n484175138670120960|Wed Jul 02 03:22:03 +0000 2014|Flame retardants have been found in a multitude of places, from breast milk to Antarctic penguins http://nyti.ms/1qvRYy1\\n484140405470949376|Wed Jul 02 01:04:02 +0000 2014|The psychology of the penalty kick http://nyti.ms/1rUYkEI\\n484064852286005250|Tue Jul 01 20:03:48 +0000 2014|Prescription Drug Deaths in Florida Plunge After Tougher Laws http://nyti.ms/1rebbEv\\n484034208428752898|Tue Jul 01 18:02:02 +0000 2014|The illogic of employer-sponsored health insurance http://nyti.ms/1rUkxTf\\n484025611728723968|Tue Jul 01 17:27:53 +0000 2014|RT @nytDeniseGrady: No need for a hated checkup? Guideline Calls Routine Pelvic Exams Unnecessary http://nyti.ms/1qsbVpl\\n484025561590009856|Tue Jul 01 17:27:41 +0000 2014|RT @deborahblum: My latest for @nytimes: Flame Retardants Are Everywhere (from peanut butter to penguins)  http://nyti.ms/1kaFSCI\\n484018258597937152|Tue Jul 01 16:58:40 +0000 2014|Well: Flame Retardants Are Everywhere http://nyti.ms/1mhoYrW\\n483998662222417920|Tue Jul 01 15:40:47 +0000 2014|Gluten-Free Dining in Italy http://nyti.ms/1odsH8z\\n483984158533120000|Tue Jul 01 14:43:10 +0000 2014|Recipes for Health: Big Bowl With Spicy Brown Bean, Squash and Corn Succotash http://nyti.ms/V7FGP8\\n483737560863494144|Mon Jun 30 22:23:16 +0000 2014|On View: ‘Code Black’: A Window Into Doctors’ Training http://nyti.ms/1meU8QT\\n483737559064129536|Mon Jun 30 22:23:16 +0000 2014|Reactions : Life Outside the Hospital; Consequences of Cool; You’re So Far Away http://nyti.ms/1meW6R0\\n483732819676770304|Mon Jun 30 22:04:26 +0000 2014|Global Health: Clue to Disease’s Spread in a 6,200-Year-Old Grave http://nyti.ms/TxqfON\\n483731914302705664|Mon Jun 30 22:00:50 +0000 2014|RT @nytvideo: Mental Health in the Pistorius Trial http://nyti.ms/1meKjCr\\n483730553464946688|Mon Jun 30 21:55:25 +0000 2014|RT @cslnyt: 999+ comments on @adamliptak story on Supreme Ct rejection of birth control mandate http://nyti.ms/1r6GYaa\\n483728121045479424|Mon Jun 30 21:45:45 +0000 2014|Q&amp;A: Eating the Shell Along With the Egg? http://nyti.ms/TxoO2I\\n483720040710430720|Mon Jun 30 21:13:39 +0000 2014|Doctors’ Group Advises Against Regular Pelvic Exams http://nyti.ms/1meMeqB\\n483701116635717632|Mon Jun 30 19:58:27 +0000 2014|RT @dacorc: Who knew? From Natalie @Angier58: Leprosy, Still Claiming Victims http://nyti.ms/1mB4EvK\\n483687512809172993|Mon Jun 30 19:04:24 +0000 2014|Debate That Divides: How Hobby Lobby Ruling Could Limit Access to Birth Control http://nyti.ms/1meqVFD\\n483686339687510016|Mon Jun 30 18:59:44 +0000 2014|Hobby Lobby ruling seems likely to make it harder for women to get contraception in the future @aaroncarroll writes http://nyti.ms/1iO0g23\\n483683719476432896|Mon Jun 30 18:49:19 +0000 2014|Leprosy, Still Claiming Victims http://nyti.ms/1nZIuG9\\n483657174275874817|Mon Jun 30 17:03:50 +0000 2014|Justices Rule in Favor of Hobby Lobby http://nyti.ms/VAgtgX\\n483652347860885504|Mon Jun 30 16:44:40 +0000 2014|Supreme Court Declines Case Contesting Ban on Gay ‘Conversion Therapy’ http://nyti.ms/1iNwGd1\\n483651450342735872|Mon Jun 30 16:41:06 +0000 2014|RT @UpshotNYT: Evidence-based medicine, or why hardly anyone has tonsils removed these days: http://nyti.ms/1sRDCdc\\n483651253374033921|Mon Jun 30 16:40:19 +0000 2014|RT @jessbidgood: I spent 3 days outside Boston’s @PPact clinic to look at how SCOTUS\\' buffer-zone ruling is felt there: http://t.co/wyNjQuP…\\n483650611528093697|Mon Jun 30 16:37:46 +0000 2014|RT @celiadugger: Scientists: morning after pills don\\'t cause abortions in way abortion opponents contend in Hobby Lobby case. http://t.co/k…\\n483650393164222465|Mon Jun 30 16:36:54 +0000 2014|The New Old Age Blog: Elderly Patients Often Overtreated for Diabetes, Study Suggests http://nyti.ms/VAcS2c\\n483650390668230656|Mon Jun 30 16:36:53 +0000 2014|Recipes for Health: Orecchiette With Fresh and Dried Beans and Tomatoes http://nyti.ms/1nZe0Ek\\n483646143776456705|Mon Jun 30 16:20:01 +0000 2014|Several doctors said “this view did not reflect the way the birth control methods actually work.” From this piece: http://nyti.ms/xnIqKL\\n483645610885931008|Mon Jun 30 16:17:53 +0000 2014|The companies objected to some of the contraceptive methods, saying they are tantamount to abortion.\\n483645357025669120|Mon Jun 30 16:16:53 +0000 2014|Updates on the 5-to-4 Hobby Lobby decision. http://nyti.ms/1iNqsJY\\n483645132928221184|Mon Jun 30 16:16:00 +0000 2014|Supreme Court ruled that requiring family-owned corporations to pay for insurance for contraception violated religious freedom law.\\n483644313973587969|Mon Jun 30 16:12:44 +0000 2014|Worth revisiting. @PamBelluck @eckholm’s piece on religious groups’ beliefs that contraceptives are form of abortion http://nyti.ms/xnIqKL\\n483629544063389696|Mon Jun 30 15:14:03 +0000 2014|Well: How Music May Make Babies Team Players http://nyti.ms/1lshGf2\\n483625740777168899|Mon Jun 30 14:58:56 +0000 2014|Supreme Court Rules in Contraceptive Case http://nyti.ms/1lseH6h\\n483625738357071872|Mon Jun 30 14:58:56 +0000 2014|The New Health Care: What the Reduction in Tonsillectomies Teaches Us About Medicine http://nyti.ms/1m2xmd9\\n483624988629811200|Mon Jun 30 14:55:57 +0000 2014|RT @WilliamJBroad: Why Teenagers Act Crazy http://nyti.ms/1qmj9Ls\\n483624693501816832|Mon Jun 30 14:54:46 +0000 2014|RT @jswatz: Facebook tinkering with our feeds to emotional contagion. Should I feel Hawthorne effect or Stockholm Syndrome? http://t.co/xOp…\\n483624639047172096|Mon Jun 30 14:54:33 +0000 2014|RT @cslnyt: Devastating errors after military care, a NYT investigation shows  http://nyti.ms/1wVzVBP\\n483624560743706624|Mon Jun 30 14:54:15 +0000 2014|RT @David_Dobbs: Pistorius Was Not Mentally Ill at Time of Shooting, Psychiatrists Report, via @nytimes http://nyti.ms/1m1hWpq\\n483465680792989697|Mon Jun 30 04:22:55 +0000 2014|Well: Keeping Your Cool http://nyti.ms/1ogUkxo\\n483461727108235264|Mon Jun 30 04:07:12 +0000 2014|World Cup 2014: With Júlio César’s Help, More Respect for Brazilians in Net http://nyti.ms/1ogST1W\\n483457847091789824|Mon Jun 30 03:51:47 +0000 2014|Facebook Tinkers With Users’ Emotions in News Feed Experiment, Stirring Outcry http://nyti.ms/1z0Z2VJ\\n483453606751125504|Mon Jun 30 03:34:56 +0000 2014|Medical Boards Draft Plan to Ease Path to Out-of-State and Online Treatment http://nyti.ms/1ogQy7e\\n483453605899673600|Mon Jun 30 03:34:56 +0000 2014|Flawed Saudi Response Fueled Outbreak of MERS, Middle East Virus http://nyti.ms/1z0XRFU\\n483061694596677632|Sun Jun 29 01:37:37 +0000 2014|Cuomo Plan Seeks to End New York’s AIDS Epidemic http://nyti.ms/1msG0O4\\n482887982362669056|Sat Jun 28 14:07:21 +0000 2014|Technophoria: When a Health Plan Knows How You Shop http://nyti.ms/1wV0AhZ\\n482735346208501760|Sat Jun 28 04:00:49 +0000 2014|On Religion: For Women Who Saw Combat, a Place to Find Inner Peace http://nyti.ms/1lyUccW\\n482726408004067328|Sat Jun 28 03:25:18 +0000 2014|Afrezza, a New Inhaled Insulin, Is Approved by the F.D.A. http://nyti.ms/1lyNLqf\\n482726406934511617|Sat Jun 28 03:25:18 +0000 2014|Report Finds Health Unit of V.A. Needs Overhaul http://nyti.ms/1lyNLq9'"
      ]
     },
     "metadata": {},
     "execution_count": 153
    }
   ],
   "source": [
    "with open(\"datasets/nytimeshealth.txt\", \"r\", -1, \"utf-8\") as file:\n",
    "    health = file.read()\n",
    "health"
   ]
  },
  {
   "cell_type": "code",
   "execution_count": 164,
   "metadata": {},
   "outputs": [
    {
     "output_type": "stream",
     "name": "stdout",
     "text": [
      "#askwell\n#pregnancy\n#Colorado\n#VegetarianThanksgiving\n#FallPrevention\n#Ebola\n#Ebola\n#ebola\n#Ebola\n#Ebola\n#EbolaHysteria\n#AskNYT\n#Ebola\n#Ebola\n#Liberia\n#Excalibur\n#ebola\n#Ebola\n#dallas\n#nobelprize2014\n#ebola\n#ebola\n#monrovia\n#ebola\n#nobelprize2014\n#ebola\n#nobelprize2014\n#Medicine\n#Ebola\n#Monrovia\n#Ebola\n#smell\n#Ebola\n#Ebola\n#Ebola\n#Monrovia\n#Ebola\n#ebola\n#monrovia\n#liberia\n#benzos\n#ClimateChange\n#Whole\n#Wheat\n#Focaccia\n#Tomatoes\n#Olives\n#Recipes\n#Health\n#Ebola\n#Monrovia\n#Liberia\n#Ebola\n#Ebola\n#Liberia\n#Ebola\n#blood\n#Ebola\n#organtrafficking\n#EbolaOutbreak\n#SierraLeone\n#Freetown\n#SierraLeone\n#ebolaoutbreak\n#kenema\n#ebola\n#Ebola\n#ebola\n#ebola\n#Ebola\n#ASMR\n#AIDS2014\n#AIDS\n#MH17\n#benzos\n"
     ]
    }
   ],
   "source": [
    "# List all the hashtags\n",
    "\n",
    "pattern=\"(?P<hashtag>#[\\w\\d]*)(?=\\s)\"\n",
    "\n",
    "for item in re.finditer(pattern, health):\n",
    "    print(item.group('hashtag'))"
   ]
  },
  {
   "cell_type": "code",
   "execution_count": null,
   "metadata": {},
   "outputs": [],
   "source": []
  }
 ]
}